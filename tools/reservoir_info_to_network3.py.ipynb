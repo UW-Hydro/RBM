{
 "cells": [
  {
   "cell_type": "code",
   "execution_count": 1,
   "metadata": {
    "collapsed": true
   },
   "outputs": [],
   "source": [
    "# ------------------------------------------------------------------------------------\n",
    "#\n",
    "#           Code to read in _Network file and add reservoir information \n",
    "#\n",
    "# ------------------------------------------------------------------------------------"
   ]
  },
  {
   "cell_type": "code",
   "execution_count": 20,
   "metadata": {
    "collapsed": false
   },
   "outputs": [],
   "source": [
    "import sys\n",
    "import csv\n",
    "import pandas as pd\n",
    "import os.path\n",
    "import numpy as np"
   ]
  },
  {
   "cell_type": "code",
   "execution_count": 61,
   "metadata": {
    "collapsed": false
   },
   "outputs": [
    {
     "name": "stdout",
     "output_type": "stream",
     "text": [
      "[1, 1, 1, 1, 1, 1, 1, 1, 1, 1, 1, 2, 2, 2, 3, 3, 3, 4, 4, 5, 5, 5, 5, 5, 5, 6, 6, 6, 6, 6, 6, 6, 6, 7, 7, 7, 8, 8, 8, 9, 9, 9, 10, 10, 10, 10, 10, 10, 10, 11, 12, 12, 12, 14, 14, 15, 15, 15, 16, 16, 17, 17, 17, 17, 18, 18, 19, 19, 20, 21, 21, 21, 21, 21, 21, 22, 23, 24, 24, 24, 24, 24, 25]\n"
     ]
    }
   ],
   "source": [
    "# ------------------------------------------------------------------------------------\n",
    "#        read in reservoir information, write all nodes with a reservoir\n",
    "# ------------------------------------------------------------------------------------\n",
    "\n",
    "reservoir_file = '/raid3/rniemeyr/RBM/two_layer_model/RBM_Yixin/RIPS/model_run/source/VIC_RBM/tools/cfg/reservoir_to_model_total.csv'\n",
    "#reservoir_file = './cfg/reservoir_to_model.csv'\n",
    "# reservoir_file = 'reservoir_to_model.csv'\n",
    "# reservoir_file = sys.argv[2]\n",
    "\n",
    "reservoir_nodes = pd.read_csv(reservoir_file)\n",
    "\n",
    "# -------- sequence of numbers -----------\n",
    "reservoir_tot_nodes = []\n",
    "reservoir_tot_nodes_index = []\n",
    "for i in range(0, len(reservoir_nodes['start_node']) ):\n",
    "    x = range(int(reservoir_nodes['start_node'][i]), int(reservoir_nodes['end_node'][i])+1 )\n",
    "    reservoir_tot_nodes.extend(x)\n",
    "    # x = repeat(i+1, len(x) )  # want index to start with 1, not 0\n",
    "    x = np.repeat(i+1, len(x))\n",
    "    reservoir_tot_nodes_index.extend(x)\n",
    "\n",
    "reservoir_tot_nodes2 = pd.DataFrame(reservoir_tot_nodes)\n",
    "\n",
    "print(reservoir_tot_nodes_index)"
   ]
  },
  {
   "cell_type": "code",
   "execution_count": null,
   "metadata": {
    "collapsed": false
   },
   "outputs": [],
   "source": []
  },
  {
   "cell_type": "code",
   "execution_count": 62,
   "metadata": {
    "collapsed": false
   },
   "outputs": [],
   "source": [
    "# ------------------------------------------------------------------------------------\n",
    "#        read in reservoir information, write all nodes with a reservoir\n",
    "# ------------------------------------------------------------------------------------\n",
    "\n",
    "network_file = '../RBM_processing/Tennessee_8th.Mohseni_v1/Tennessee_8th_Network'\n",
    "#network_file = '../RBM_processing/Holston_8th.Mohseni_v1/Holston_8th_Network'\n",
    "# network_file = \"Holston_8th_Network\"\n",
    "# network_file = sys.argv[1]\n",
    "with open(network_file) as f:\n",
    "    network =  f.read().splitlines()\n",
    "\n",
    "# -------- get dimensions of river network ----------    \n",
    "str1 = network[4]\n",
    "dim = [int(s) for s in str1.split() if s.isdigit()]  # nreach, flow_cells, heat_cells, source\n",
    "\n",
    "# ------------- reform the network file ------------\n",
    "network2 = network[0:3]\n",
    "network2.append(reservoir_file) # instert path to reservoir info\n",
    "network2.append(network[3])   # add start and end date\n",
    "x = network[4] +  str(len(reservoir_nodes)).rjust(6) + '    TRUE'  # a boolean for if reservoirs are simulated with two-layer models\n",
    "network2.append(x)"
   ]
  },
  {
   "cell_type": "code",
   "execution_count": 63,
   "metadata": {
    "collapsed": false
   },
   "outputs": [
    {
     "name": "stdout",
     "output_type": "stream",
     "text": [
      "['RBM parameter preparation control file template', '/raid2/ymao/VIC_RBM_east_RIPS/RIPS/model_run/output/RVICandVIC_for_RBM/Tennessee.hist_1949_2010.calibrated_1961_1970.Mohs_v1.Leop_v1.reservoir/Tennessee.DA_flow', '/raid2/ymao/VIC_RBM_east_RIPS/RIPS/model_run/output/RVICandVIC_for_RBM/Tennessee.hist_1949_2010.calibrated_1961_1970.Mohs_v1.Leop_v1.reservoir/Tennessee.DA_energy', '/raid3/rniemeyr/RBM/two_layer_model/RBM_Yixin/RIPS/model_run/source/VIC_RBM/tools/cfg/reservoir_to_model_total.csv', '            19490101               20101231', '       299       665       964                FALSE    25    TRUE']\n"
     ]
    }
   ],
   "source": [
    "print(network2)"
   ]
  },
  {
   "cell_type": "code",
   "execution_count": 64,
   "metadata": {
    "collapsed": false
   },
   "outputs": [],
   "source": [
    "# ------------------------------------------------------------------------------------\n",
    "#        loop to get the nodes each file\n",
    "# ------------------------------------------------------------------------------------\n",
    "\n",
    "for i in range(5, len(network)):\n",
    "        x = network[i]\n",
    "        if x[0:4] == 'Node':\n",
    "                x2 = [int(s) for s in x.split() if s.isdigit()]\n",
    "                \n",
    "                # if node in NETWORK file has a reservoir \n",
    "                if x2[0] in reservoir_tot_nodes:\n",
    "                       \n",
    "                        nodesx = int(np.where(reservoir_tot_nodes2 == x2[0])[0])\n",
    "                        nodesx2 = reservoir_tot_nodes_index[nodesx]\n",
    "                        x4 = str(nodesx2)\n",
    "                        #x4 = x4.rjust(5-len(x4))\n",
    "                        x3 = network[i] + x4.rjust(6)  + '  TRUE '\n",
    "                        #x3 = network[i] + '   ' +  x4 + '  TRUE '\n",
    "                        network2.append(x3)\n",
    "                        \n",
    "                # if node in NETWORK file does not have reservoir\n",
    "                else:\n",
    "                        x3 = network[i] + '  ' +  '   0'  + '  FALSE'\n",
    "                        network2.append(x3)\n",
    "        else:\n",
    "                network2.append(x)"
   ]
  },
  {
   "cell_type": "code",
   "execution_count": null,
   "metadata": {
    "collapsed": false
   },
   "outputs": [],
   "source": []
  },
  {
   "cell_type": "code",
   "execution_count": 65,
   "metadata": {
    "collapsed": false
   },
   "outputs": [],
   "source": [
    "# ------------- write the file -------- \n",
    "\n",
    "network_file = network_file + \"_2\"  # REMOVE once you have a network file you like (i.e. overwrite network file)\n",
    "save_path = '/raid3/rniemeyr/RBM/two_layer_model/RBM_Yixin/RIPS/model_run/source/VIC_RBM/RBM_processing/Tennessee_8th.Mohseni_v1/'\n",
    "network_file2 = save_path + 'Tennessee_8th_Network_2'\n",
    "# completeName = os.path.join(save_path, network_file)         \n",
    "\n",
    "with open(network_file2, \"w\") as outfile:\n",
    "    for counter in range(0, len(network2)):\n",
    "        outfile.write(network2[counter] + '\\n')\n"
   ]
  },
  {
   "cell_type": "code",
   "execution_count": 8,
   "metadata": {
    "collapsed": false
   },
   "outputs": [
    {
     "name": "stdout",
     "output_type": "stream",
     "text": [
      "   1\n"
     ]
    }
   ],
   "source": [
    "print(x4)"
   ]
  },
  {
   "cell_type": "code",
   "execution_count": 17,
   "metadata": {
    "collapsed": false
   },
   "outputs": [],
   "source": [
    "xi = "
   ]
  },
  {
   "cell_type": "code",
   "execution_count": 18,
   "metadata": {
    "collapsed": false
   },
   "outputs": [
    {
     "data": {
      "text/plain": [
       "4"
      ]
     },
     "execution_count": 18,
     "metadata": {},
     "output_type": "execute_result"
    }
   ],
   "source": [
    "len(x4)"
   ]
  },
  {
   "cell_type": "raw",
   "metadata": {},
   "source": [
    "len(xi)"
   ]
  },
  {
   "cell_type": "code",
   "execution_count": 19,
   "metadata": {
    "collapsed": false
   },
   "outputs": [
    {
     "data": {
      "text/plain": [
       "6"
      ]
     },
     "execution_count": 19,
     "metadata": {},
     "output_type": "execute_result"
    }
   ],
   "source": []
  },
  {
   "cell_type": "code",
   "execution_count": null,
   "metadata": {
    "collapsed": true
   },
   "outputs": [],
   "source": []
  }
 ],
 "metadata": {
  "kernelspec": {
   "display_name": "Python 3",
   "language": "python",
   "name": "python3"
  },
  "language_info": {
   "codemirror_mode": {
    "name": "ipython",
    "version": 3
   },
   "file_extension": ".py",
   "mimetype": "text/x-python",
   "name": "python",
   "nbconvert_exporter": "python",
   "pygments_lexer": "ipython3",
   "version": "3.5.1"
  }
 },
 "nbformat": 4,
 "nbformat_minor": 0
}
