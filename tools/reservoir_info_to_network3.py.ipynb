{
 "cells": [
  {
   "cell_type": "code",
   "execution_count": null,
   "metadata": {
    "collapsed": true
   },
   "outputs": [],
   "source": [
    "# ------------------------------------------------------------------------------------\n",
    "#\n",
    "#           Code to read in _Network file and add reservoir information \n",
    "#\n",
    "# ------------------------------------------------------------------------------------"
   ]
  },
  {
   "cell_type": "code",
   "execution_count": 1,
   "metadata": {
    "collapsed": false
   },
   "outputs": [],
   "source": [
    "import sys\n",
    "import csv\n",
    "import pandas as pd\n",
    "import os.path\n",
    "import numpy as np"
   ]
  },
  {
   "cell_type": "code",
   "execution_count": 45,
   "metadata": {
    "collapsed": false
   },
   "outputs": [
    {
     "name": "stdout",
     "output_type": "stream",
     "text": [
      "[1, 1, 2, 2, 2, 3, 3, 3, 4, 4, 4, 4, 4, 4, 4, 4]\n"
     ]
    }
   ],
   "source": [
    "# ------------------------------------------------------------------------------------\n",
    "#        read in reservoir information, write all nodes with a reservoir\n",
    "# ------------------------------------------------------------------------------------\n",
    "\n",
    "reservoir_file = './cfg/reservoir_to_model.csv'\n",
    "# reservoir_file = 'reservoir_to_model.csv'\n",
    "# reservoir_file = sys.argv[2]\n",
    "\n",
    "reservoir_nodes = pd.read_csv(reservoir_file)\n",
    "\n",
    "# -------- sequence of numbers -----------\n",
    "reservoir_tot_nodes = []\n",
    "reservoir_tot_nodes_index = []\n",
    "for i in range(0, len(reservoir_nodes['start_node']) ):\n",
    "    x = range(int(reservoir_nodes['start_node'][i]), int(reservoir_nodes['end_node'][i])+1 )\n",
    "    reservoir_tot_nodes.extend(x)\n",
    "    # x = repeat(i+1, len(x) )  # want index to start with 1, not 0\n",
    "    x = np.repeat(i+1, len(x))\n",
    "    reservoir_tot_nodes_index.extend(x)\n",
    "\n",
    "reservoir_tot_nodes2 = pd.DataFrame(reservoir_tot_nodes)\n",
    "\n",
    "print(reservoir_tot_nodes_index)"
   ]
  },
  {
   "cell_type": "code",
   "execution_count": 46,
   "metadata": {
    "collapsed": false
   },
   "outputs": [],
   "source": [
    "# ------------------------------------------------------------------------------------\n",
    "#        read in reservoir information, write all nodes with a reservoir\n",
    "# ------------------------------------------------------------------------------------\n",
    "\n",
    "network_file = '../RBM_processing/Holston_8th.Mohseni_v1/Holston_8th_Network'\n",
    "# network_file = \"Holston_8th_Network\"\n",
    "# network_file = sys.argv[1]\n",
    "with open(network_file) as f:\n",
    "    network =  f.read().splitlines()\n",
    "\n",
    "# -------- get dimensions of river network ----------    \n",
    "str1 = network[4]\n",
    "dim = [int(s) for s in str1.split() if s.isdigit()]  # nreach, flow_cells, heat_cells, source\n",
    "\n",
    "# ------------- reform the network file ------------\n",
    "network2 = network[0:4]\n",
    "x = network[4] + '     TRUE'  # a boolean for if reservoirs are simulated with two-layer models\n",
    "network2.append(x)\n",
    "\n"
   ]
  },
  {
   "cell_type": "code",
   "execution_count": 48,
   "metadata": {
    "collapsed": false
   },
   "outputs": [],
   "source": [
    "# ------------------------------------------------------------------------------------\n",
    "#        loop to get the nodes each file\n",
    "# ------------------------------------------------------------------------------------\n",
    "\n",
    "for i in range(5, len(network)-1):\n",
    "        x = network[i]\n",
    "        if x[0:4] == 'Node':\n",
    "                x2 = [int(s) for s in x.split() if s.isdigit()]\n",
    "                \n",
    "                # if node in NETWORK file has a reservoir \n",
    "                if x2[0] in reservoir_tot_nodes:\n",
    "                       \n",
    "                        nodesx = int(np.where(reservoir_tot_nodes2 == x2[0])[0])\n",
    "                        nodesx2 = reservoir_tot_nodes_index[nodesx]\n",
    "                        x4 = str(nodesx2)\n",
    "                        x4 = x4.rjust(5-len(x4))\n",
    "                        x3 = network[i] + '  ' +  x4 + '  TRUE '\n",
    "                        network2.append(x3)\n",
    "                        \n",
    "                # if node in NETWORK file does not have reservoir\n",
    "                else:\n",
    "                        x3 = network[i] + '  ' +  '   0'  + '  FALSE'\n",
    "                        network2.append(x3)\n",
    "        else:\n",
    "                network2.append(x)\n",
    "    \n"
   ]
  },
  {
   "cell_type": "code",
   "execution_count": 49,
   "metadata": {
    "collapsed": false
   },
   "outputs": [],
   "source": [
    "# ------------- write the file -------- \n",
    "\n",
    "network_file = network_file + \"_2\"  # REMOVE once you have a network file you like (i.e. overwrite network file)\n",
    "save_path = '/raid3/rniemeyr/RBM/two_layer_model/RBM_Yixin/RIPS/model_run/source/VIC_RBM/RBM_processing/Holston_8th.Mohseni_v1/'\n",
    "network_file2 = save_path + 'Holston_8th_Network_2'\n",
    "# completeName = os.path.join(save_path, network_file)         \n",
    "\n",
    "with open(network_file2, \"w\") as outfile:\n",
    "    for counter in range(0, len(network2)):\n",
    "        outfile.write(network2[counter] + '\\n')\n"
   ]
  },
  {
   "cell_type": "code",
   "execution_count": null,
   "metadata": {
    "collapsed": false
   },
   "outputs": [],
   "source": []
  },
  {
   "cell_type": "code",
   "execution_count": null,
   "metadata": {
    "collapsed": false
   },
   "outputs": [],
   "source": []
  },
  {
   "cell_type": "code",
   "execution_count": null,
   "metadata": {
    "collapsed": true
   },
   "outputs": [],
   "source": []
  }
 ],
 "metadata": {
  "kernelspec": {
   "display_name": "Python 3",
   "language": "python",
   "name": "python3"
  },
  "language_info": {
   "codemirror_mode": {
    "name": "ipython",
    "version": 3
   },
   "file_extension": ".py",
   "mimetype": "text/x-python",
   "name": "python",
   "nbconvert_exporter": "python",
   "pygments_lexer": "ipython3",
   "version": "3.5.1"
  }
 },
 "nbformat": 4,
 "nbformat_minor": 0
}
